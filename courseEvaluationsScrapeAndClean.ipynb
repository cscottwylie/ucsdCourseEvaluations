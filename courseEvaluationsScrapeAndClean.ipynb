{
 "cells": [
  {
   "cell_type": "markdown",
   "metadata": {},
   "source": [
    "# Thanks for checking out my little side project, analyzing physics teaching at UCSD.\n",
    "\n",
    "## This notebook focuses on data procurement and cleaning.\n",
    "\n",
    "## Dataset: student evaluations of 1025 physics courses at UCSD, **scraped** from web (using BeautifulSoup and urllib2).\n",
    "### Features: \n",
    "- instructor (categorical)\n",
    "- course code (categorical, e.g. 1A for \"physics 1A\", which is offered every academic quarter)\n",
    "- year\n",
    "- term (categorical: Fall,Winter, Spring, Summer)\n",
    "- lower division, upper division, or lab? (categorical)\n",
    "- class size\n",
    "- \\# evaluations returned (~ attendance)\n",
    "- \\# hours spent studying / week\n",
    "- expected grade\n",
    "- attendance (actually, # evaluations returned / enrollment)\n",
    "\n",
    "### Labels\n",
    "- % students recommending course\n",
    "- % students recommending instructor\n",
    "\n",
    "### Objectives of this project:\n",
    "- *describe* this data\n",
    "- *analyze* predictors of positive outcomes (high % students recommending class and/or instructor)"
   ]
  },
  {
   "cell_type": "markdown",
   "metadata": {},
   "source": [
    "## dataURL is the web address of the data that we're about to scrape.  \n",
    "- Originally, the HTML file came from manually querying http://cape.ucsd.edu/responses/Results.aspx for all physics courses\n",
    "- Ideally, I would like to automate this query, but I do not know how to program Python to interact with search fields... non-trivial\n",
    "- For now, I've stashed the HTML containing query results on github..."
   ]
  },
  {
   "cell_type": "code",
   "execution_count": 1,
   "metadata": {
    "collapsed": true
   },
   "outputs": [],
   "source": [
    "import pandas as pd\n",
    "import numpy as np\n",
    "dataURL = 'https://raw.githubusercontent.com/cscottwylie/ucsdCourseEvaluations/master/allPhysicsCapeSummary.html'"
   ]
  },
  {
   "cell_type": "markdown",
   "metadata": {},
   "source": [
    "# Obtain data from cape.ucsd.edu/responses\n",
    "\n",
    "### To write this scraper, I had to locate desired data within the html file, using \"inspect element\"\n",
    "1. Item called \"tbody\" contains whole data table\n",
    "2. Each row corresponds to a specific course, stored in \"tr\" items\n",
    "3. Each data point (cell) stored in \"td\" items\n",
    "\n",
    "### Put data points in 2D list\n",
    "\n",
    "### To each row, append hyperlink to detailed course data (future analysis)\n"
   ]
  },
  {
   "cell_type": "code",
   "execution_count": 2,
   "metadata": {
    "collapsed": false
   },
   "outputs": [],
   "source": [
    "def scrapeWeb(dataLocation):   \n",
    "    \n",
    "    '''input: URL containing data to be scraped\n",
    "       output: 2D list (# courses by # features) containing course evaluation data scraped from web'''\n",
    "    from bs4 import BeautifulSoup\n",
    "    import urllib2\n",
    "    page = urllib2.urlopen(dataLocation).read()\n",
    "    soup = BeautifulSoup(page,\"lxml\")\n",
    "    tableDat = soup.find(\"tbody\")                   # tbody is the tag of the whole table\n",
    "    listTable = [[td.text for td in tr.findAll(\"td\")] \n",
    "                 for tr in tableDat.findAll(\"tr\")]       #tr = row, td = data point\n",
    "    \n",
    "    # now put links to detailed stats at the end of each row.  \n",
    "    # Look out for key errors\n",
    "    def graceful_href_extract(tr):\n",
    "        try:\n",
    "             return tr.a[\"href\"]\n",
    "        except KeyError:\n",
    "             return \"\"\n",
    "            \n",
    "    trList=tableDat.findAll(\"tr\")\n",
    "    for i in range(0,len(trList)):\n",
    "        listTable[i].append(graceful_href_extract(trList[i]))\n",
    "        \n",
    "    return listTable"
   ]
  },
  {
   "cell_type": "markdown",
   "metadata": {},
   "source": [
    "# Our dataframe will be called df.  More columns will be added a bit later."
   ]
  },
  {
   "cell_type": "code",
   "execution_count": 3,
   "metadata": {
    "collapsed": true
   },
   "outputs": [],
   "source": [
    "colNames= ['Instructor', 'Course','Term','Enroll','Evals',\n",
    "               'Rcmnd_Class','Rcmnd_Instructor','Study_Hrs_Per_Wk',\n",
    "               'Grade_Expected','Grade', 'Link']\n",
    "df = pd.DataFrame(scrapeWeb(dataURL), columns=colNames)"
   ]
  },
  {
   "cell_type": "code",
   "execution_count": 4,
   "metadata": {
    "collapsed": true
   },
   "outputs": [],
   "source": [
    "def triage169and170(df):\n",
    "    df.drop(df.index[169:171],inplace=True)\n",
    "    df.reset_index(drop=True,inplace=True)\n",
    "    return df\n",
    "df = triage169and170(df)"
   ]
  },
  {
   "cell_type": "code",
   "execution_count": 5,
   "metadata": {
    "collapsed": true
   },
   "outputs": [],
   "source": [
    "def dropLetterGrade(df):\n",
    "    import re\n",
    "    df.Grade_Expected = df.Grade_Expected.apply(lambda x: re.sub(\"[^\\d\\.]\",\"\",str(x)))\n",
    "    df.Grade = df.Grade.apply(lambda x: re.sub(\"[^\\d\\.]\",\"\",str(x)))\n",
    "    return df\n",
    "df = dropLetterGrade(df)"
   ]
  },
  {
   "cell_type": "code",
   "execution_count": 6,
   "metadata": {
    "collapsed": false
   },
   "outputs": [],
   "source": [
    "def removeGarbageChars(df):\n",
    "    df = df.applymap(lambda x: str(x).replace('%','')\n",
    "                            .replace('(','')\n",
    "                            .replace(')','')\n",
    "                            .replace('\\n',''))\n",
    "    return df\n",
    "df = removeGarbageChars(df)"
   ]
  },
  {
   "cell_type": "code",
   "execution_count": 7,
   "metadata": {
    "collapsed": false
   },
   "outputs": [],
   "source": [
    "def splitCourseIntoCodeAndTitle(df):\n",
    "    df['Course_Code'] = df['Course'].apply(lambda x: x.split()[1])\n",
    "    df['Course_Title'] = df.Course.apply(lambda x: ' '.join(x.split()[3:-1]))\n",
    "    df.drop('Course',inplace=True, axis=1)\n",
    "    return df\n",
    "\n",
    "df = splitCourseIntoCodeAndTitle(df)"
   ]
  },
  {
   "cell_type": "code",
   "execution_count": 8,
   "metadata": {
    "collapsed": false
   },
   "outputs": [],
   "source": [
    "def appendCourseType(df):\n",
    "    import re\n",
    "    def toc(row):\n",
    "        if type(row.Course_Code) != str:\n",
    "            return None\n",
    "        elif re.search('[Ll]', row.Course_Code):\n",
    "            return 'Lab'\n",
    "        elif len(re.search('\\d+', row.Course_Code).group()) > 1:\n",
    "            return 'Upper_Division'\n",
    "        else:\n",
    "            return 'Lower_Division'\n",
    "    df['Course_Type'] = df.apply(toc, axis=1) \n",
    "    return df\n",
    "df = appendCourseType(df)"
   ]
  },
  {
   "cell_type": "code",
   "execution_count": 9,
   "metadata": {
    "collapsed": false
   },
   "outputs": [],
   "source": [
    "def splitTermIntoYearAndQuarter(df):\n",
    "    df['Quarter'] = df.Term.str.extract('(\\D+)')\n",
    "    df['Year']    = df.Term.str.extract('(..$)')\n",
    "    # Now reformat these new columns just a bit\n",
    "    df.Year = df.Year.apply(lambda x: '20'+x)\n",
    "    def formatQuarter(s):\n",
    "        d = dict(S='Summer', FA='Fall', SP='Spring', WI='Winter',SU='Summer')\n",
    "        return d[s]\n",
    "    df.Quarter = df.Quarter.apply(formatQuarter)\n",
    "    df.drop('Term',inplace=True, axis=1)\n",
    "    return df\n",
    "df = splitTermIntoYearAndQuarter(df)"
   ]
  },
  {
   "cell_type": "code",
   "execution_count": 10,
   "metadata": {
    "collapsed": false
   },
   "outputs": [
    {
     "name": "stdout",
     "output_type": "stream",
     "text": [
      "<class 'pandas.core.frame.DataFrame'>\n",
      "Int64Index: 1023 entries, 0 to 1022\n",
      "Data columns (total 14 columns):\n",
      "Instructor          1023 non-null object\n",
      "Enroll              1023 non-null object\n",
      "Evals               1023 non-null object\n",
      "Rcmnd_Class         1023 non-null object\n",
      "Rcmnd_Instructor    1023 non-null object\n",
      "Study_Hrs_Per_Wk    1023 non-null object\n",
      "Grade_Expected      1023 non-null object\n",
      "Grade               1023 non-null object\n",
      "Link                1023 non-null object\n",
      "Course_Code         1023 non-null object\n",
      "Course_Title        1023 non-null object\n",
      "Course_Type         1023 non-null object\n",
      "Quarter             1023 non-null object\n",
      "Year                1023 non-null object\n",
      "dtypes: object(14)\n",
      "memory usage: 119.9+ KB\n"
     ]
    }
   ],
   "source": [
    "df.info()"
   ]
  },
  {
   "cell_type": "code",
   "execution_count": 11,
   "metadata": {
    "collapsed": false
   },
   "outputs": [],
   "source": [
    "def castColumns(df):\n",
    "    ## These two little functions will facilitate type conversion\n",
    "    def graceful_float(x):\n",
    "        try:\n",
    "            return float(x)\n",
    "        except ValueError:   # float('N/A') throws this error \n",
    "            return None     # pandas sees None as null    \n",
    "    def graceful_int(x):\n",
    "        try:\n",
    "            return int(x)\n",
    "        except ValueError:   # int('N/A') throws this error \n",
    "            return None     # pandas sees None as null\n",
    "    \n",
    "    floatCols = ['Rcmnd_Class', 'Rcmnd_Instructor', 'Study_Hrs_Per_Wk', 'Grade_Expected', 'Grade']\n",
    "    intCols = ['Enroll', 'Evals', 'Year']\n",
    "    df[floatCols] = df[floatCols].applymap(graceful_float)\n",
    "    df[intCols] = df[intCols].applymap(graceful_int)\n",
    "    return df\n",
    "temp = castColumns(df)"
   ]
  },
  {
   "cell_type": "markdown",
   "metadata": {},
   "source": [
    "## Let's trade \"Evals\" for Attendance = Evals/Enroll"
   ]
  },
  {
   "cell_type": "code",
   "execution_count": 12,
   "metadata": {
    "collapsed": false
   },
   "outputs": [],
   "source": [
    "df['Attendance'] = df.Evals.astype(float) / df.Enroll\n",
    "df.drop('Evals', axis=1, inplace=True)"
   ]
  },
  {
   "cell_type": "code",
   "execution_count": 13,
   "metadata": {
    "collapsed": false
   },
   "outputs": [
    {
     "data": {
      "text/plain": [
       "1.75"
      ]
     },
     "execution_count": 13,
     "metadata": {},
     "output_type": "execute_result"
    }
   ],
   "source": [
    "df.Attendance.max()"
   ]
  },
  {
   "cell_type": "code",
   "execution_count": 14,
   "metadata": {
    "collapsed": false,
    "scrolled": true
   },
   "outputs": [
    {
     "name": "stderr",
     "output_type": "stream",
     "text": [
      "/Users/cwylie/anaconda/lib/python2.7/site-packages/ipykernel/__main__.py:1: SettingWithCopyWarning: \n",
      "A value is trying to be set on a copy of a slice from a DataFrame\n",
      "\n",
      "See the caveats in the documentation: http://pandas.pydata.org/pandas-docs/stable/indexing.html#indexing-view-versus-copy\n",
      "  if __name__ == '__main__':\n"
     ]
    }
   ],
   "source": [
    "df.Attendance[df.Attendance>1] = 0."
   ]
  },
  {
   "cell_type": "code",
   "execution_count": 15,
   "metadata": {
    "collapsed": false
   },
   "outputs": [
    {
     "data": {
      "text/plain": [
       "1.0"
      ]
     },
     "execution_count": 15,
     "metadata": {},
     "output_type": "execute_result"
    }
   ],
   "source": [
    "df.Attendance.max()"
   ]
  },
  {
   "cell_type": "code",
   "execution_count": 16,
   "metadata": {
    "collapsed": false
   },
   "outputs": [
    {
     "name": "stdout",
     "output_type": "stream",
     "text": [
      "<class 'pandas.core.frame.DataFrame'>\n",
      "Int64Index: 1023 entries, 0 to 1022\n",
      "Data columns (total 14 columns):\n",
      "Instructor          1023 non-null object\n",
      "Enroll              1023 non-null int64\n",
      "Rcmnd_Class         1022 non-null float64\n",
      "Rcmnd_Instructor    1022 non-null float64\n",
      "Study_Hrs_Per_Wk    1022 non-null float64\n",
      "Grade_Expected      1010 non-null float64\n",
      "Grade               786 non-null float64\n",
      "Link                1023 non-null object\n",
      "Course_Code         1023 non-null object\n",
      "Course_Title        1023 non-null object\n",
      "Course_Type         1023 non-null object\n",
      "Quarter             1023 non-null object\n",
      "Year                1023 non-null int64\n",
      "Attendance          1023 non-null float64\n",
      "dtypes: float64(6), int64(2), object(6)\n",
      "memory usage: 119.9+ KB\n"
     ]
    }
   ],
   "source": [
    "df.info()"
   ]
  },
  {
   "cell_type": "code",
   "execution_count": 17,
   "metadata": {
    "collapsed": false
   },
   "outputs": [
    {
     "data": {
      "text/html": [
       "<div>\n",
       "<table border=\"1\" class=\"dataframe\">\n",
       "  <thead>\n",
       "    <tr style=\"text-align: right;\">\n",
       "      <th></th>\n",
       "      <th>Instructor</th>\n",
       "      <th>Enroll</th>\n",
       "      <th>Rcmnd_Class</th>\n",
       "      <th>Rcmnd_Instructor</th>\n",
       "      <th>Study_Hrs_Per_Wk</th>\n",
       "      <th>Grade_Expected</th>\n",
       "      <th>Grade</th>\n",
       "      <th>Link</th>\n",
       "      <th>Course_Code</th>\n",
       "      <th>Course_Title</th>\n",
       "      <th>Course_Type</th>\n",
       "      <th>Quarter</th>\n",
       "      <th>Year</th>\n",
       "      <th>Attendance</th>\n",
       "    </tr>\n",
       "  </thead>\n",
       "  <tbody>\n",
       "    <tr>\n",
       "      <th>362</th>\n",
       "      <td>Anderson, Michael G.</td>\n",
       "      <td>24</td>\n",
       "      <td>NaN</td>\n",
       "      <td>NaN</td>\n",
       "      <td>NaN</td>\n",
       "      <td>NaN</td>\n",
       "      <td>3.13</td>\n",
       "      <td>https://cape.ucsd.edu/scripts/detailedStats.as...</td>\n",
       "      <td>1AL</td>\n",
       "      <td>Mechanics Laboratory</td>\n",
       "      <td>Lab</td>\n",
       "      <td>Summer</td>\n",
       "      <td>2012</td>\n",
       "      <td>0.041667</td>\n",
       "    </tr>\n",
       "  </tbody>\n",
       "</table>\n",
       "</div>"
      ],
      "text/plain": [
       "                              Instructor  Enroll  Rcmnd_Class  \\\n",
       "362  Anderson, Michael G.                     24          NaN   \n",
       "\n",
       "     Rcmnd_Instructor  Study_Hrs_Per_Wk  Grade_Expected  Grade  \\\n",
       "362               NaN               NaN             NaN   3.13   \n",
       "\n",
       "                                                  Link Course_Code  \\\n",
       "362  https://cape.ucsd.edu/scripts/detailedStats.as...         1AL   \n",
       "\n",
       "             Course_Title Course_Type Quarter  Year  Attendance  \n",
       "362  Mechanics Laboratory         Lab  Summer  2012    0.041667  "
      ]
     },
     "execution_count": 17,
     "metadata": {},
     "output_type": "execute_result"
    }
   ],
   "source": [
    "df[pd.isnull(df.Rcmnd_Class)]"
   ]
  },
  {
   "cell_type": "markdown",
   "metadata": {},
   "source": [
    "### That row is worthless, so out it goes"
   ]
  },
  {
   "cell_type": "code",
   "execution_count": 18,
   "metadata": {
    "collapsed": true
   },
   "outputs": [],
   "source": [
    "df = df[pd.notnull(df.Rcmnd_Class)]\n",
    "df.reset_index(drop=True, inplace=True)"
   ]
  },
  {
   "cell_type": "markdown",
   "metadata": {},
   "source": [
    "### Of the remaining 12 rows missing Grade_Expected all are also missing Grade.  However, there's still valuable information here, so I'll hold onto these rows for now"
   ]
  },
  {
   "cell_type": "code",
   "execution_count": 19,
   "metadata": {
    "collapsed": false
   },
   "outputs": [
    {
     "data": {
      "text/html": [
       "<div>\n",
       "<table border=\"1\" class=\"dataframe\">\n",
       "  <thead>\n",
       "    <tr style=\"text-align: right;\">\n",
       "      <th></th>\n",
       "      <th>Instructor</th>\n",
       "      <th>Enroll</th>\n",
       "      <th>Rcmnd_Class</th>\n",
       "      <th>Rcmnd_Instructor</th>\n",
       "      <th>Study_Hrs_Per_Wk</th>\n",
       "      <th>Grade_Expected</th>\n",
       "      <th>Grade</th>\n",
       "      <th>Link</th>\n",
       "      <th>Course_Code</th>\n",
       "      <th>Course_Title</th>\n",
       "      <th>Course_Type</th>\n",
       "      <th>Quarter</th>\n",
       "      <th>Year</th>\n",
       "      <th>Attendance</th>\n",
       "    </tr>\n",
       "  </thead>\n",
       "  <tbody>\n",
       "    <tr>\n",
       "      <th>62</th>\n",
       "      <td>Manohar, Aneesh Vasant</td>\n",
       "      <td>1</td>\n",
       "      <td>100.0</td>\n",
       "      <td>100</td>\n",
       "      <td>0.0</td>\n",
       "      <td>NaN</td>\n",
       "      <td>NaN</td>\n",
       "      <td>https://cape.ucsd.edu/responses/CAPEReport.asp...</td>\n",
       "      <td>140B</td>\n",
       "      <td>Statistical &amp; Thermal Phys II</td>\n",
       "      <td>Upper_Division</td>\n",
       "      <td>Winter</td>\n",
       "      <td>2015</td>\n",
       "      <td>1.000000</td>\n",
       "    </tr>\n",
       "    <tr>\n",
       "      <th>88</th>\n",
       "      <td>Fuller, George Michael</td>\n",
       "      <td>19</td>\n",
       "      <td>100.0</td>\n",
       "      <td>100</td>\n",
       "      <td>0.5</td>\n",
       "      <td>NaN</td>\n",
       "      <td>NaN</td>\n",
       "      <td>https://cape.ucsd.edu/responses/CAPEReport.asp...</td>\n",
       "      <td>87</td>\n",
       "      <td>Freshman Seminar</td>\n",
       "      <td>Upper_Division</td>\n",
       "      <td>Winter</td>\n",
       "      <td>2015</td>\n",
       "      <td>0.684211</td>\n",
       "    </tr>\n",
       "    <tr>\n",
       "      <th>98</th>\n",
       "      <td>Manohar, Aneesh Vasant</td>\n",
       "      <td>1</td>\n",
       "      <td>100.0</td>\n",
       "      <td>100</td>\n",
       "      <td>0.0</td>\n",
       "      <td>NaN</td>\n",
       "      <td>NaN</td>\n",
       "      <td>https://cape.ucsd.edu/responses/CAPEReport.asp...</td>\n",
       "      <td>140A</td>\n",
       "      <td>Statistical &amp; Thermal Phys I</td>\n",
       "      <td>Upper_Division</td>\n",
       "      <td>Fall</td>\n",
       "      <td>2014</td>\n",
       "      <td>1.000000</td>\n",
       "    </tr>\n",
       "    <tr>\n",
       "      <th>101</th>\n",
       "      <td>Murphy, Thomas</td>\n",
       "      <td>28</td>\n",
       "      <td>100.0</td>\n",
       "      <td>100</td>\n",
       "      <td>0.5</td>\n",
       "      <td>NaN</td>\n",
       "      <td>NaN</td>\n",
       "      <td>https://cape.ucsd.edu/responses/CAPEReport.asp...</td>\n",
       "      <td>191</td>\n",
       "      <td>Undergraduate Seminar/Physics</td>\n",
       "      <td>Upper_Division</td>\n",
       "      <td>Fall</td>\n",
       "      <td>2014</td>\n",
       "      <td>0.357143</td>\n",
       "    </tr>\n",
       "    <tr>\n",
       "      <th>116</th>\n",
       "      <td>Murphy, Thomas</td>\n",
       "      <td>1</td>\n",
       "      <td>100.0</td>\n",
       "      <td>100</td>\n",
       "      <td>0.0</td>\n",
       "      <td>NaN</td>\n",
       "      <td>NaN</td>\n",
       "      <td>https://cape.ucsd.edu/responses/CAPEReport.asp...</td>\n",
       "      <td>2D</td>\n",
       "      <td>Phys-Relativity&amp;Quantm Physics</td>\n",
       "      <td>Lower_Division</td>\n",
       "      <td>Fall</td>\n",
       "      <td>2014</td>\n",
       "      <td>1.000000</td>\n",
       "    </tr>\n",
       "    <tr>\n",
       "      <th>151</th>\n",
       "      <td>Paar, Hans Peter</td>\n",
       "      <td>5</td>\n",
       "      <td>100.0</td>\n",
       "      <td>100</td>\n",
       "      <td>2.5</td>\n",
       "      <td>NaN</td>\n",
       "      <td>NaN</td>\n",
       "      <td>https://cape.ucsd.edu/responses/CAPEReport.asp...</td>\n",
       "      <td>192</td>\n",
       "      <td>Senior Seminar in Physics</td>\n",
       "      <td>Upper_Division</td>\n",
       "      <td>Spring</td>\n",
       "      <td>2014</td>\n",
       "      <td>0.200000</td>\n",
       "    </tr>\n",
       "    <tr>\n",
       "      <th>172</th>\n",
       "      <td>Burgasser, Adam Jonathan</td>\n",
       "      <td>5</td>\n",
       "      <td>100.0</td>\n",
       "      <td>100</td>\n",
       "      <td>0.5</td>\n",
       "      <td>NaN</td>\n",
       "      <td>NaN</td>\n",
       "      <td>https://cape.ucsd.edu/responses/CAPEReport.asp...</td>\n",
       "      <td>87</td>\n",
       "      <td>Freshman Seminar</td>\n",
       "      <td>Upper_Division</td>\n",
       "      <td>Spring</td>\n",
       "      <td>2014</td>\n",
       "      <td>0.400000</td>\n",
       "    </tr>\n",
       "    <tr>\n",
       "      <th>271</th>\n",
       "      <td>Jun, Suckjoon</td>\n",
       "      <td>1</td>\n",
       "      <td>0.0</td>\n",
       "      <td>0</td>\n",
       "      <td>0.0</td>\n",
       "      <td>NaN</td>\n",
       "      <td>NaN</td>\n",
       "      <td>https://cape.ucsd.edu/responses/CAPEReport.asp...</td>\n",
       "      <td>177</td>\n",
       "      <td>Physics of the Cell</td>\n",
       "      <td>Upper_Division</td>\n",
       "      <td>Spring</td>\n",
       "      <td>2013</td>\n",
       "      <td>1.000000</td>\n",
       "    </tr>\n",
       "    <tr>\n",
       "      <th>305</th>\n",
       "      <td>Hwa, Terence T.</td>\n",
       "      <td>2</td>\n",
       "      <td>100.0</td>\n",
       "      <td>100</td>\n",
       "      <td>0.0</td>\n",
       "      <td>NaN</td>\n",
       "      <td>NaN</td>\n",
       "      <td>https://cape.ucsd.edu/responses/CAPEReport.asp...</td>\n",
       "      <td>176</td>\n",
       "      <td>Quantitative Molecular Biology</td>\n",
       "      <td>Upper_Division</td>\n",
       "      <td>Winter</td>\n",
       "      <td>2013</td>\n",
       "      <td>0.500000</td>\n",
       "    </tr>\n",
       "    <tr>\n",
       "      <th>777</th>\n",
       "      <td>Dubin, Daniel Herschel</td>\n",
       "      <td>17</td>\n",
       "      <td>100.0</td>\n",
       "      <td>100</td>\n",
       "      <td>0.5</td>\n",
       "      <td>NaN</td>\n",
       "      <td>NaN</td>\n",
       "      <td>https://cape.ucsd.edu/scripts/detailedStats.as...</td>\n",
       "      <td>87</td>\n",
       "      <td>Freshman Seminar</td>\n",
       "      <td>Upper_Division</td>\n",
       "      <td>Winter</td>\n",
       "      <td>2010</td>\n",
       "      <td>0.529412</td>\n",
       "    </tr>\n",
       "    <tr>\n",
       "      <th>869</th>\n",
       "      <td>Diamond, Patrick H</td>\n",
       "      <td>7</td>\n",
       "      <td>100.0</td>\n",
       "      <td>100</td>\n",
       "      <td>0.5</td>\n",
       "      <td>NaN</td>\n",
       "      <td>NaN</td>\n",
       "      <td>https://cape.ucsd.edu/scripts/detailedStats.as...</td>\n",
       "      <td>192</td>\n",
       "      <td>Senior Seminar in Physics</td>\n",
       "      <td>Upper_Division</td>\n",
       "      <td>Winter</td>\n",
       "      <td>2009</td>\n",
       "      <td>0.857143</td>\n",
       "    </tr>\n",
       "    <tr>\n",
       "      <th>888</th>\n",
       "      <td>Fuller, George Michael</td>\n",
       "      <td>13</td>\n",
       "      <td>92.3</td>\n",
       "      <td>100</td>\n",
       "      <td>0.5</td>\n",
       "      <td>NaN</td>\n",
       "      <td>NaN</td>\n",
       "      <td>https://cape.ucsd.edu/scripts/detailedStats.as...</td>\n",
       "      <td>87</td>\n",
       "      <td>Freshman Seminar</td>\n",
       "      <td>Upper_Division</td>\n",
       "      <td>Winter</td>\n",
       "      <td>2009</td>\n",
       "      <td>0.000000</td>\n",
       "    </tr>\n",
       "  </tbody>\n",
       "</table>\n",
       "</div>"
      ],
      "text/plain": [
       "                              Instructor  Enroll  Rcmnd_Class  \\\n",
       "62                Manohar, Aneesh Vasant       1        100.0   \n",
       "88                Fuller, George Michael      19        100.0   \n",
       "98                Manohar, Aneesh Vasant       1        100.0   \n",
       "101                       Murphy, Thomas      28        100.0   \n",
       "116                       Murphy, Thomas       1        100.0   \n",
       "151                     Paar, Hans Peter       5        100.0   \n",
       "172             Burgasser, Adam Jonathan       5        100.0   \n",
       "271                        Jun, Suckjoon       1          0.0   \n",
       "305                      Hwa, Terence T.       2        100.0   \n",
       "777  Dubin, Daniel Herschel                   17        100.0   \n",
       "869                   Diamond, Patrick H       7        100.0   \n",
       "888               Fuller, George Michael      13         92.3   \n",
       "\n",
       "     Rcmnd_Instructor  Study_Hrs_Per_Wk  Grade_Expected  Grade  \\\n",
       "62                100               0.0             NaN    NaN   \n",
       "88                100               0.5             NaN    NaN   \n",
       "98                100               0.0             NaN    NaN   \n",
       "101               100               0.5             NaN    NaN   \n",
       "116               100               0.0             NaN    NaN   \n",
       "151               100               2.5             NaN    NaN   \n",
       "172               100               0.5             NaN    NaN   \n",
       "271                 0               0.0             NaN    NaN   \n",
       "305               100               0.0             NaN    NaN   \n",
       "777               100               0.5             NaN    NaN   \n",
       "869               100               0.5             NaN    NaN   \n",
       "888               100               0.5             NaN    NaN   \n",
       "\n",
       "                                                  Link Course_Code  \\\n",
       "62   https://cape.ucsd.edu/responses/CAPEReport.asp...        140B   \n",
       "88   https://cape.ucsd.edu/responses/CAPEReport.asp...          87   \n",
       "98   https://cape.ucsd.edu/responses/CAPEReport.asp...        140A   \n",
       "101  https://cape.ucsd.edu/responses/CAPEReport.asp...         191   \n",
       "116  https://cape.ucsd.edu/responses/CAPEReport.asp...          2D   \n",
       "151  https://cape.ucsd.edu/responses/CAPEReport.asp...         192   \n",
       "172  https://cape.ucsd.edu/responses/CAPEReport.asp...          87   \n",
       "271  https://cape.ucsd.edu/responses/CAPEReport.asp...         177   \n",
       "305  https://cape.ucsd.edu/responses/CAPEReport.asp...         176   \n",
       "777  https://cape.ucsd.edu/scripts/detailedStats.as...          87   \n",
       "869  https://cape.ucsd.edu/scripts/detailedStats.as...         192   \n",
       "888  https://cape.ucsd.edu/scripts/detailedStats.as...          87   \n",
       "\n",
       "                       Course_Title     Course_Type Quarter  Year  Attendance  \n",
       "62    Statistical & Thermal Phys II  Upper_Division  Winter  2015    1.000000  \n",
       "88                 Freshman Seminar  Upper_Division  Winter  2015    0.684211  \n",
       "98     Statistical & Thermal Phys I  Upper_Division    Fall  2014    1.000000  \n",
       "101   Undergraduate Seminar/Physics  Upper_Division    Fall  2014    0.357143  \n",
       "116  Phys-Relativity&Quantm Physics  Lower_Division    Fall  2014    1.000000  \n",
       "151       Senior Seminar in Physics  Upper_Division  Spring  2014    0.200000  \n",
       "172                Freshman Seminar  Upper_Division  Spring  2014    0.400000  \n",
       "271             Physics of the Cell  Upper_Division  Spring  2013    1.000000  \n",
       "305  Quantitative Molecular Biology  Upper_Division  Winter  2013    0.500000  \n",
       "777                Freshman Seminar  Upper_Division  Winter  2010    0.529412  \n",
       "869       Senior Seminar in Physics  Upper_Division  Winter  2009    0.857143  \n",
       "888                Freshman Seminar  Upper_Division  Winter  2009    0.000000  "
      ]
     },
     "execution_count": 19,
     "metadata": {},
     "output_type": "execute_result"
    }
   ],
   "source": [
    "df[df.isnull().Grade_Expected]"
   ]
  },
  {
   "cell_type": "code",
   "execution_count": 20,
   "metadata": {
    "collapsed": false
   },
   "outputs": [
    {
     "name": "stdout",
     "output_type": "stream",
     "text": [
      "<class 'pandas.core.frame.DataFrame'>\n",
      "Int64Index: 1022 entries, 0 to 1021\n",
      "Data columns (total 14 columns):\n",
      "Instructor          1022 non-null object\n",
      "Enroll              1022 non-null int64\n",
      "Rcmnd_Class         1022 non-null float64\n",
      "Rcmnd_Instructor    1022 non-null float64\n",
      "Study_Hrs_Per_Wk    1022 non-null float64\n",
      "Grade_Expected      1010 non-null float64\n",
      "Grade               785 non-null float64\n",
      "Link                1022 non-null object\n",
      "Course_Code         1022 non-null object\n",
      "Course_Title        1022 non-null object\n",
      "Course_Type         1022 non-null object\n",
      "Quarter             1022 non-null object\n",
      "Year                1022 non-null int64\n",
      "Attendance          1022 non-null float64\n",
      "dtypes: float64(6), int64(2), object(6)\n",
      "memory usage: 119.8+ KB\n"
     ]
    }
   ],
   "source": [
    "df.info()"
   ]
  },
  {
   "cell_type": "code",
   "execution_count": 21,
   "metadata": {
    "collapsed": true
   },
   "outputs": [],
   "source": [
    "df.to_csv('cleanedDF.csv')"
   ]
  },
  {
   "cell_type": "code",
   "execution_count": 25,
   "metadata": {
    "collapsed": false
   },
   "outputs": [
    {
     "name": "stdout",
     "output_type": "stream",
     "text": [
      "total 9464\r\n",
      "-rw-r-----@ 1 cwylie  501  2077252 Nov 18 14:54 allPhysicsCapeSummary.html\r\n",
      "-rw-r--r--  1 cwylie  501    70383 Feb 26 11:19 capeDemo.ipynb\r\n",
      "-rw-r--r--  1 cwylie  501   262570 Mar  2 20:32 cleanDFwithPCA.csv\r\n",
      "-rw-r--r--  1 cwylie  501   196681 Mar  2 19:56 cleanedDF.csv\r\n",
      "-rw-r--r--  1 cwylie  501   355899 Mar  2 21:14 courseEvaluationsEDA-Copy1.ipynb\r\n",
      "-rw-r--r--  1 cwylie  501  1661938 Mar  2 21:08 courseEvaluationsEDA.ipynb\r\n",
      "-rw-r--r--  1 cwylie  501    30588 Mar  2 21:13 courseEvaluationsScrapeAndClean.ipynb\r\n",
      "-rw-r--r--  1 cwylie  501   171170 Nov 18 20:09 physicsSummary.csv\r\n"
     ]
    }
   ],
   "source": [
    "!ls -l"
   ]
  },
  {
   "cell_type": "code",
   "execution_count": 26,
   "metadata": {
    "collapsed": false
   },
   "outputs": [
    {
     "name": "stdout",
     "output_type": "stream",
     "text": [
      "/Users/cwylie/Documents/ipythonPracOct2015/insightDemo/cape\r\n"
     ]
    }
   ],
   "source": [
    "!pwd"
   ]
  },
  {
   "cell_type": "code",
   "execution_count": null,
   "metadata": {
    "collapsed": true
   },
   "outputs": [],
   "source": [
    "!mkdir ../tempHide\n",
    "!mv "
   ]
  }
 ],
 "metadata": {
  "kernelspec": {
   "display_name": "Python 2",
   "language": "python",
   "name": "python2"
  },
  "language_info": {
   "codemirror_mode": {
    "name": "ipython",
    "version": 2
   },
   "file_extension": ".py",
   "mimetype": "text/x-python",
   "name": "python",
   "nbconvert_exporter": "python",
   "pygments_lexer": "ipython2",
   "version": "2.7.11"
  }
 },
 "nbformat": 4,
 "nbformat_minor": 0
}
