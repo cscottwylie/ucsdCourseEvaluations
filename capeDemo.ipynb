{
 "cells": [
  {
   "cell_type": "markdown",
   "metadata": {},
   "source": [
    "# Welcome to my demo!!\n",
    "##Dataset: student evaluations of 1025 physics courses at UCSD, **scraped** from web.\n",
    "###summary statistics: \n",
    "- class size, \n",
    "- \\# evaluations returned (~ attendance)\n",
    "- \\# hours spent studying / week\n",
    "- expected grade\n",
    "- **% students recommending course**\n",
    "- **% students recommending instructor**\n",
    "\n",
    "###objectives:\n",
    "- *describe* this data\n",
    "- *analyze* predictors of positive outcomes (high % students recommending class and/or instructor)"
   ]
  },
  {
   "cell_type": "markdown",
   "metadata": {},
   "source": [
    "# Obtain data from cape.ucsd.edu/responses\n",
    "### Locate desired data within html file, using \"inspect element\"\n",
    "1. Item called \"tbody\" contains whole data table\n",
    "2. Each row corresponds to a specific course, stored in \"tr\" items\n",
    "3. Each data point (cell) stored in \"td\" items\n",
    "\n",
    "### Put data points in 2D list\n",
    "\n",
    "### To each row, append hyperlink to detailed course data (future analysis)\n",
    "\n",
    "### Do some cleaning\n",
    "1. Strip parentheses, %, extraneous spaces\n",
    "2. Strip letter grades, leaving GPA only\n",
    "3. Convert extracted strings to numeric types"
   ]
  },
  {
   "cell_type": "code",
   "execution_count": 134,
   "metadata": {
    "collapsed": false
   },
   "outputs": [],
   "source": [
    "def scrapeLocal():   \n",
    "    \n",
    "    '''output: list of summary statistics for all physics courses, \n",
    "    scraped from cape.uscd.edu'''\n",
    "    from bs4 import BeautifulSoup\n",
    "    import urllib2\n",
    "    import re\n",
    "    # scrape \"web\"\n",
    "    page = urllib2.urlopen('file:///Users/cwylie/ipythonPracOct2015/insightDemo/cape/allPhysicsCapeSummary.html').read()\n",
    "    soup = BeautifulSoup(page,\"lxml\")\n",
    "    tableDat = soup.find(\"tbody\")          # tbody is the tag of the whole table\n",
    "    listTable = [[td.text for td in tr.findAll(\"td\")] \n",
    "                 for tr in tableDat.findAll(\"tr\")]  #tr = row, td = data point\n",
    "    \n",
    "    # now put links to detailed stats at the end of each row.  \n",
    "    # Look out for key errors\n",
    "    def graceful_href_extract(tr):\n",
    "        try:\n",
    "            return tr.a[\"href\"]\n",
    "        except KeyError:\n",
    "            return \"\"\n",
    "    # now go get hrefs\n",
    "    trList=tableDat.findAll(\"tr\")\n",
    "    for i in range(0,len(trList)):\n",
    "        listTable[i].append(graceful_href_extract(trList[i]))\n",
    "        \n",
    "    # clean listTable:\n",
    "    # get rid of '(', ')', ' ', '%'\n",
    "    stripListTable = [[ str(listTable[i][j]).replace('(','').replace(')','')\n",
    "                       .replace('%','').strip() \n",
    "                   for j in range(0,len(listTable[0]))] for i in range(0,len(listTable)) ]\n",
    "\n",
    "    # get rid of letter grade, leaving just GPA\n",
    "    for i in range(0,len(stripListTable)):\n",
    "        stripListTable[i][8] = re.sub(\"[^0123456789\\.]\", \"\", stripListTable[i][8])\n",
    "        stripListTable[i][9] = re.sub(\"[^0123456789\\.]\", \"\", stripListTable[i][9])\n",
    "\n",
    "    # function that facilitates casting string to float ('N/A' entries are problem)\n",
    "    def graceful_float(x):\n",
    "        try:\n",
    "            return float(x)\n",
    "        except ValueError:   # float('N/A') throws this error \n",
    "            return 'NaN'     # pandas is ok with 'NaN', but not 'N/A'\n",
    "\n",
    "    # convert scraped strings to numeric types\n",
    "    for i in range(0,len(stripListTable)):\n",
    "        stripListTable[i][3] = int(stripListTable[i][3])\n",
    "        stripListTable[i][4] = int(stripListTable[i][4])\n",
    "        stripListTable[i][5] = graceful_float(stripListTable[i][5])\n",
    "        stripListTable[i][6] = graceful_float(stripListTable[i][6])\n",
    "        stripListTable[i][7] = graceful_float(stripListTable[i][7])\n",
    "        stripListTable[i][8] = graceful_float(stripListTable[i][8])\n",
    "        stripListTable[i][9] = graceful_float(stripListTable[i][9])\n",
    "        \n",
    "    return stripListTable"
   ]
  },
  {
   "cell_type": "markdown",
   "metadata": {},
   "source": [
    "# Convert list to pandas data frame\n",
    "- Column names correspond to html, except link to detailed data is in last column\n",
    "- Make sure floats are represented as floats (and not \"objects\")"
   ]
  },
  {
   "cell_type": "code",
   "execution_count": 365,
   "metadata": {
    "collapsed": false
   },
   "outputs": [],
   "source": [
    "import pandas as pd\n",
    "\n",
    "def capeListToPandas(stripListTable):\n",
    "    # put list in pandas data frame    \n",
    "    colNames= ['Instructor', 'Course','Term','Enroll','Evals',\n",
    "               'Rcmnd_Class','Rcmnd_Instructor','Study_Hrs_Per_Wk',\n",
    "               'Grade_Expected','Grade', 'Link']\n",
    "    df = pd.DataFrame(stripListTable, columns=colNames)\n",
    "\n",
    "    # make sure df[:][5:9] are floats\n",
    "    df.Rcmnd_Class = df.Rcmnd_Class.astype(float)\n",
    "    df.Rcmnd_Instructor = df.Rcmnd_Instructor.astype(float)\n",
    "    df.Study_Hrs_Per_Wk = df.Study_Hrs_Per_Wk.astype(float)\n",
    "    df.Grade_Expected = df.Grade_Expected.astype(float)\n",
    "    df.Grade = df.Grade.astype(float)\n",
    "    \n",
    "    # define one last column: (proxy for) attendance\n",
    "    df['Attendance']=df['Evals'] / df['Enroll'] \n",
    "    return df\n",
    "\n",
    "df = capeListToPandas(scrapeLocal())"
   ]
  },
  {
   "cell_type": "markdown",
   "metadata": {},
   "source": [
    "#That's me!"
   ]
  },
  {
   "cell_type": "code",
   "execution_count": 428,
   "metadata": {
    "collapsed": false
   },
   "outputs": [
    {
     "data": {
      "text/html": [
       "<div>\n",
       "<table border=\"1\" class=\"dataframe\">\n",
       "  <thead>\n",
       "    <tr style=\"text-align: right;\">\n",
       "      <th></th>\n",
       "      <th>Instructor</th>\n",
       "      <th>Course</th>\n",
       "      <th>Term</th>\n",
       "      <th>Enroll</th>\n",
       "      <th>Evals</th>\n",
       "      <th>Rcmnd_Class</th>\n",
       "      <th>Rcmnd_Instructor</th>\n",
       "      <th>Study_Hrs_Per_Wk</th>\n",
       "      <th>Grade_Expected</th>\n",
       "      <th>Grade</th>\n",
       "      <th>Link</th>\n",
       "      <th>Attendance</th>\n",
       "    </tr>\n",
       "  </thead>\n",
       "  <tbody>\n",
       "    <tr>\n",
       "      <th>919</th>\n",
       "      <td>Wylie, Christopher Scott</td>\n",
       "      <td>PHYS 1B  - Electricity and Magnetism      A</td>\n",
       "      <td>SU08</td>\n",
       "      <td>57</td>\n",
       "      <td>45</td>\n",
       "      <td>86.4</td>\n",
       "      <td>100</td>\n",
       "      <td>6.37</td>\n",
       "      <td>3.36</td>\n",
       "      <td>NaN</td>\n",
       "      <td>https://cape.ucsd.edu/scripts/detailedStats.as...</td>\n",
       "      <td>0.789474</td>\n",
       "    </tr>\n",
       "  </tbody>\n",
       "</table>\n",
       "</div>"
      ],
      "text/plain": [
       "                   Instructor                                       Course  \\\n",
       "919  Wylie, Christopher Scott  PHYS 1B  - Electricity and Magnetism      A   \n",
       "\n",
       "     Term  Enroll  Evals  Rcmnd_Class  Rcmnd_Instructor  Study_Hrs_Per_Wk  \\\n",
       "919  SU08      57     45         86.4               100              6.37   \n",
       "\n",
       "     Grade_Expected  Grade                                               Link  \\\n",
       "919            3.36    NaN  https://cape.ucsd.edu/scripts/detailedStats.as...   \n",
       "\n",
       "     Attendance  \n",
       "919    0.789474  "
      ]
     },
     "execution_count": 428,
     "metadata": {},
     "output_type": "execute_result"
    }
   ],
   "source": [
    "df[df['Instructor']=='Wylie, Christopher Scott']"
   ]
  },
  {
   "cell_type": "markdown",
   "metadata": {},
   "source": [
    "#Basic summary statistics"
   ]
  },
  {
   "cell_type": "code",
   "execution_count": 366,
   "metadata": {
    "collapsed": false
   },
   "outputs": [
    {
     "data": {
      "text/html": [
       "<div>\n",
       "<table border=\"1\" class=\"dataframe\">\n",
       "  <thead>\n",
       "    <tr style=\"text-align: right;\">\n",
       "      <th></th>\n",
       "      <th>Enroll</th>\n",
       "      <th>Evals</th>\n",
       "      <th>Rcmnd_Class</th>\n",
       "      <th>Rcmnd_Instructor</th>\n",
       "      <th>Study_Hrs_Per_Wk</th>\n",
       "      <th>Grade_Expected</th>\n",
       "      <th>Grade</th>\n",
       "      <th>Attendance</th>\n",
       "    </tr>\n",
       "  </thead>\n",
       "  <tbody>\n",
       "    <tr>\n",
       "      <th>count</th>\n",
       "      <td>1025.000000</td>\n",
       "      <td>1025.000000</td>\n",
       "      <td>1022.000000</td>\n",
       "      <td>1022.000000</td>\n",
       "      <td>1022.000000</td>\n",
       "      <td>1010.000000</td>\n",
       "      <td>786.000000</td>\n",
       "      <td>1025.000000</td>\n",
       "    </tr>\n",
       "    <tr>\n",
       "      <th>mean</th>\n",
       "      <td>106.319024</td>\n",
       "      <td>45.400000</td>\n",
       "      <td>80.095988</td>\n",
       "      <td>78.567808</td>\n",
       "      <td>6.061448</td>\n",
       "      <td>3.369436</td>\n",
       "      <td>3.089911</td>\n",
       "      <td>0.445026</td>\n",
       "    </tr>\n",
       "    <tr>\n",
       "      <th>std</th>\n",
       "      <td>121.368912</td>\n",
       "      <td>54.582596</td>\n",
       "      <td>16.990485</td>\n",
       "      <td>20.831715</td>\n",
       "      <td>2.526226</td>\n",
       "      <td>0.306059</td>\n",
       "      <td>0.307910</td>\n",
       "      <td>0.181720</td>\n",
       "    </tr>\n",
       "    <tr>\n",
       "      <th>min</th>\n",
       "      <td>1.000000</td>\n",
       "      <td>0.000000</td>\n",
       "      <td>0.000000</td>\n",
       "      <td>0.000000</td>\n",
       "      <td>0.000000</td>\n",
       "      <td>2.000000</td>\n",
       "      <td>2.020000</td>\n",
       "      <td>0.000000</td>\n",
       "    </tr>\n",
       "    <tr>\n",
       "      <th>25%</th>\n",
       "      <td>22.000000</td>\n",
       "      <td>9.000000</td>\n",
       "      <td>71.400000</td>\n",
       "      <td>66.700000</td>\n",
       "      <td>4.355000</td>\n",
       "      <td>3.162500</td>\n",
       "      <td>2.862500</td>\n",
       "      <td>0.333333</td>\n",
       "    </tr>\n",
       "    <tr>\n",
       "      <th>50%</th>\n",
       "      <td>49.000000</td>\n",
       "      <td>20.000000</td>\n",
       "      <td>82.400000</td>\n",
       "      <td>84.000000</td>\n",
       "      <td>5.830000</td>\n",
       "      <td>3.350000</td>\n",
       "      <td>3.090000</td>\n",
       "      <td>0.419643</td>\n",
       "    </tr>\n",
       "    <tr>\n",
       "      <th>75%</th>\n",
       "      <td>175.000000</td>\n",
       "      <td>67.000000</td>\n",
       "      <td>92.300000</td>\n",
       "      <td>96.200000</td>\n",
       "      <td>7.500000</td>\n",
       "      <td>3.570000</td>\n",
       "      <td>3.340000</td>\n",
       "      <td>0.521739</td>\n",
       "    </tr>\n",
       "    <tr>\n",
       "      <th>max</th>\n",
       "      <td>840.000000</td>\n",
       "      <td>365.000000</td>\n",
       "      <td>100.000000</td>\n",
       "      <td>100.000000</td>\n",
       "      <td>20.500000</td>\n",
       "      <td>4.000000</td>\n",
       "      <td>3.930000</td>\n",
       "      <td>1.750000</td>\n",
       "    </tr>\n",
       "  </tbody>\n",
       "</table>\n",
       "</div>"
      ],
      "text/plain": [
       "            Enroll        Evals  Rcmnd_Class  Rcmnd_Instructor  \\\n",
       "count  1025.000000  1025.000000  1022.000000       1022.000000   \n",
       "mean    106.319024    45.400000    80.095988         78.567808   \n",
       "std     121.368912    54.582596    16.990485         20.831715   \n",
       "min       1.000000     0.000000     0.000000          0.000000   \n",
       "25%      22.000000     9.000000    71.400000         66.700000   \n",
       "50%      49.000000    20.000000    82.400000         84.000000   \n",
       "75%     175.000000    67.000000    92.300000         96.200000   \n",
       "max     840.000000   365.000000   100.000000        100.000000   \n",
       "\n",
       "       Study_Hrs_Per_Wk  Grade_Expected       Grade   Attendance  \n",
       "count       1022.000000     1010.000000  786.000000  1025.000000  \n",
       "mean           6.061448        3.369436    3.089911     0.445026  \n",
       "std            2.526226        0.306059    0.307910     0.181720  \n",
       "min            0.000000        2.000000    2.020000     0.000000  \n",
       "25%            4.355000        3.162500    2.862500     0.333333  \n",
       "50%            5.830000        3.350000    3.090000     0.419643  \n",
       "75%            7.500000        3.570000    3.340000     0.521739  \n",
       "max           20.500000        4.000000    3.930000     1.750000  "
      ]
     },
     "execution_count": 366,
     "metadata": {},
     "output_type": "execute_result"
    }
   ],
   "source": [
    "df.describe()"
   ]
  },
  {
   "cell_type": "code",
   "execution_count": 369,
   "metadata": {
    "collapsed": true
   },
   "outputs": [],
   "source": [
    "from pylab import *\n",
    "%matplotlib inline"
   ]
  },
  {
   "cell_type": "markdown",
   "metadata": {},
   "source": [
    "#Analyze correlates and predictors of student satisfaction"
   ]
  },
  {
   "cell_type": "code",
   "execution_count": 421,
   "metadata": {
    "collapsed": false,
    "scrolled": false
   },
   "outputs": [
    {
     "data": {
      "text/plain": [
       "[<matplotlib.text.Text at 0x1149a6a10>,\n",
       " <matplotlib.text.Text at 0x1149a3450>,\n",
       " <matplotlib.text.Text at 0x11f102650>,\n",
       " <matplotlib.text.Text at 0x11f102b90>,\n",
       " <matplotlib.text.Text at 0x11f104310>,\n",
       " <matplotlib.text.Text at 0x11f104a50>,\n",
       " <matplotlib.text.Text at 0x11f12b990>,\n",
       " <matplotlib.text.Text at 0x11d9f7250>]"
      ]
     },
     "execution_count": 421,
     "metadata": {},
     "output_type": "execute_result"
    },
    {
     "data": {
      "image/png": "[encoded data removed]",
      "text/plain": [
       "<matplotlib.figure.Figure at 0x11ea54490>"
      ]
     },
     "metadata": {},
     "output_type": "display_data"
    }
   ],
   "source": [
    "fig=figure()\n",
    "ax=fig.add_subplot(1,1,1)\n",
    "ax.pcolor(df.corr())\n",
    "\n",
    "ax.set_xticklabels(df.corr().columns, rotation=90)\n",
    "ax.set_yticklabels(df.corr().columns)\n"
   ]
  },
  {
   "cell_type": "code",
   "execution_count": 416,
   "metadata": {
    "collapsed": false
   },
   "outputs": [
    {
     "data": {
      "text/html": [
       "<div>\n",
       "<table border=\"1\" class=\"dataframe\">\n",
       "  <thead>\n",
       "    <tr style=\"text-align: right;\">\n",
       "      <th></th>\n",
       "      <th>Enroll</th>\n",
       "      <th>Evals</th>\n",
       "      <th>Rcmnd_Class</th>\n",
       "      <th>Rcmnd_Instructor</th>\n",
       "      <th>Study_Hrs_Per_Wk</th>\n",
       "      <th>Grade_Expected</th>\n",
       "      <th>Grade</th>\n",
       "      <th>Attendance</th>\n",
       "    </tr>\n",
       "  </thead>\n",
       "  <tbody>\n",
       "    <tr>\n",
       "      <th>Rcmnd_Instructor</th>\n",
       "      <td>-0.225767</td>\n",
       "      <td>-0.192750</td>\n",
       "      <td>0.558067</td>\n",
       "      <td>1.000000</td>\n",
       "      <td>-0.043559</td>\n",
       "      <td>0.361471</td>\n",
       "      <td>0.257379</td>\n",
       "      <td>0.127849</td>\n",
       "    </tr>\n",
       "    <tr>\n",
       "      <th>Rcmnd_Class</th>\n",
       "      <td>-0.210082</td>\n",
       "      <td>-0.171839</td>\n",
       "      <td>1.000000</td>\n",
       "      <td>0.558067</td>\n",
       "      <td>0.020696</td>\n",
       "      <td>0.259760</td>\n",
       "      <td>0.098794</td>\n",
       "      <td>0.142337</td>\n",
       "    </tr>\n",
       "    <tr>\n",
       "      <th>Grade_Expected</th>\n",
       "      <td>-0.242664</td>\n",
       "      <td>-0.243189</td>\n",
       "      <td>0.259760</td>\n",
       "      <td>0.361471</td>\n",
       "      <td>-0.394096</td>\n",
       "      <td>1.000000</td>\n",
       "      <td>0.599119</td>\n",
       "      <td>0.021556</td>\n",
       "    </tr>\n",
       "    <tr>\n",
       "      <th>Grade</th>\n",
       "      <td>-0.303081</td>\n",
       "      <td>-0.303403</td>\n",
       "      <td>0.098794</td>\n",
       "      <td>0.257379</td>\n",
       "      <td>-0.372841</td>\n",
       "      <td>0.599119</td>\n",
       "      <td>1.000000</td>\n",
       "      <td>-0.056930</td>\n",
       "    </tr>\n",
       "    <tr>\n",
       "      <th>Attendance</th>\n",
       "      <td>-0.086899</td>\n",
       "      <td>0.125865</td>\n",
       "      <td>0.142337</td>\n",
       "      <td>0.127849</td>\n",
       "      <td>-0.050797</td>\n",
       "      <td>0.021556</td>\n",
       "      <td>-0.056930</td>\n",
       "      <td>1.000000</td>\n",
       "    </tr>\n",
       "    <tr>\n",
       "      <th>Study_Hrs_Per_Wk</th>\n",
       "      <td>-0.064197</td>\n",
       "      <td>-0.053932</td>\n",
       "      <td>0.020696</td>\n",
       "      <td>-0.043559</td>\n",
       "      <td>1.000000</td>\n",
       "      <td>-0.394096</td>\n",
       "      <td>-0.372841</td>\n",
       "      <td>-0.050797</td>\n",
       "    </tr>\n",
       "    <tr>\n",
       "      <th>Evals</th>\n",
       "      <td>0.932455</td>\n",
       "      <td>1.000000</td>\n",
       "      <td>-0.171839</td>\n",
       "      <td>-0.192750</td>\n",
       "      <td>-0.053932</td>\n",
       "      <td>-0.243189</td>\n",
       "      <td>-0.303403</td>\n",
       "      <td>0.125865</td>\n",
       "    </tr>\n",
       "    <tr>\n",
       "      <th>Enroll</th>\n",
       "      <td>1.000000</td>\n",
       "      <td>0.932455</td>\n",
       "      <td>-0.210082</td>\n",
       "      <td>-0.225767</td>\n",
       "      <td>-0.064197</td>\n",
       "      <td>-0.242664</td>\n",
       "      <td>-0.303081</td>\n",
       "      <td>-0.086899</td>\n",
       "    </tr>\n",
       "  </tbody>\n",
       "</table>\n",
       "</div>"
      ],
      "text/plain": [
       "                    Enroll     Evals  Rcmnd_Class  Rcmnd_Instructor  \\\n",
       "Rcmnd_Instructor -0.225767 -0.192750     0.558067          1.000000   \n",
       "Rcmnd_Class      -0.210082 -0.171839     1.000000          0.558067   \n",
       "Grade_Expected   -0.242664 -0.243189     0.259760          0.361471   \n",
       "Grade            -0.303081 -0.303403     0.098794          0.257379   \n",
       "Attendance       -0.086899  0.125865     0.142337          0.127849   \n",
       "Study_Hrs_Per_Wk -0.064197 -0.053932     0.020696         -0.043559   \n",
       "Evals             0.932455  1.000000    -0.171839         -0.192750   \n",
       "Enroll            1.000000  0.932455    -0.210082         -0.225767   \n",
       "\n",
       "                  Study_Hrs_Per_Wk  Grade_Expected     Grade  Attendance  \n",
       "Rcmnd_Instructor         -0.043559        0.361471  0.257379    0.127849  \n",
       "Rcmnd_Class               0.020696        0.259760  0.098794    0.142337  \n",
       "Grade_Expected           -0.394096        1.000000  0.599119    0.021556  \n",
       "Grade                    -0.372841        0.599119  1.000000   -0.056930  \n",
       "Attendance               -0.050797        0.021556 -0.056930    1.000000  \n",
       "Study_Hrs_Per_Wk          1.000000       -0.394096 -0.372841   -0.050797  \n",
       "Evals                    -0.053932       -0.243189 -0.303403    0.125865  \n",
       "Enroll                   -0.064197       -0.242664 -0.303081   -0.086899  "
      ]
     },
     "execution_count": 416,
     "metadata": {},
     "output_type": "execute_result"
    }
   ],
   "source": [
    "df.corr().sort('Rcmnd_Instructor', ascending=False)"
   ]
  },
  {
   "cell_type": "markdown",
   "metadata": {},
   "source": [
    "###Highlights\n",
    "- Strong negative correlation (-0.2) b/w class size and student satisfaction with instructor\n",
    "- Strong positive correlation (+0.4) b/w expected grade and student satisfaction with instructor\n",
    "- Strong negative correlation (-0.3) b/w class size and grade\n",
    "- Weak, **negative** correlation b/w workload and student satisfaction with instructor"
   ]
  },
  {
   "cell_type": "markdown",
   "metadata": {},
   "source": [
    "#Next: Multivariate linear regression"
   ]
  },
  {
   "cell_type": "code",
   "execution_count": 415,
   "metadata": {
    "collapsed": false
   },
   "outputs": [],
   "source": [
    "numColNames=df.describe().columns\n",
    "numData=df[numColNames]\n",
    "\n",
    "df_num = pd.DataFrame(numData,columns=numColNames)\n",
    "df_norm = (df_num - df_num.mean()) / df_num.std()"
   ]
  },
  {
   "cell_type": "code",
   "execution_count": 426,
   "metadata": {
    "collapsed": false,
    "scrolled": true
   },
   "outputs": [
    {
     "name": "stdout",
     "output_type": "stream",
     "text": [
      "                            OLS Regression Results                            \n",
      "==============================================================================\n",
      "Dep. Variable:       Rcmnd_Instructor   R-squared:                       0.339\n",
      "Model:                            OLS   Adj. R-squared:                  0.334\n",
      "Method:                 Least Squares   F-statistic:                     66.42\n",
      "Date:                Thu, 19 Nov 2015   Prob (F-statistic):           1.18e-66\n",
      "Time:                        13:10:22   Log-Likelihood:                -947.56\n",
      "No. Observations:                 785   AIC:                             1909.\n",
      "Df Residuals:                     778   BIC:                             1942.\n",
      "Df Model:                           6                                         \n",
      "Covariance Type:            nonrobust                                         \n",
      "====================================================================================\n",
      "                       coef    std err          t      P>|t|      [95.0% Conf. Int.]\n",
      "------------------------------------------------------------------------------------\n",
      "Intercept           -0.0330      0.030     -1.093      0.275        -0.092     0.026\n",
      "Rcmnd_Class          0.4567      0.031     14.716      0.000         0.396     0.518\n",
      "Enroll              -0.0129      0.030     -0.436      0.663        -0.071     0.045\n",
      "Study_Hrs_Per_Wk     0.0736      0.036      2.023      0.043         0.002     0.145\n",
      "Grade_Expected       0.2439      0.043      5.734      0.000         0.160     0.327\n",
      "Grade                0.1043      0.038      2.725      0.007         0.029     0.179\n",
      "Attendance           0.0577      0.036      1.603      0.109        -0.013     0.128\n",
      "==============================================================================\n",
      "Omnibus:                      102.886   Durbin-Watson:                   1.678\n",
      "Prob(Omnibus):                  0.000   Jarque-Bera (JB):              210.207\n",
      "Skew:                          -0.767   Prob(JB):                     2.26e-46\n",
      "Kurtosis:                       5.018   Cond. No.                         2.41\n",
      "==============================================================================\n",
      "\n",
      "Warnings:\n",
      "[1] Standard Errors assume that the covariance matrix of the errors is correctly specified.\n"
     ]
    }
   ],
   "source": [
    "import statsmodels.formula.api as sm\n",
    "result = sm.ols(formula=\n",
    "                \"Rcmnd_Instructor ~ Rcmnd_Class + Enroll + Study_Hrs_Per_Wk + Grade_Expected + Grade + Attendance\",\n",
    "                data=df_norm).fit()\n",
    "print result.summary()"
   ]
  },
  {
   "cell_type": "markdown",
   "metadata": {},
   "source": [
    "##highlights\n",
    "- Class size is a **poor** predictor of student satisfaction w/ instructor (p > 0.6)\n",
    "- Expected grade is a strong positive predictor of student satisfaction w/ instructor.\n",
    "- Workload is a **positive** predictor of student satisfaction (p < 0.05)"
   ]
  },
  {
   "cell_type": "markdown",
   "metadata": {},
   "source": [
    "# Time permitting: Split-Apply-Combine example\n",
    "###Do instructors get better with experience?\n",
    "- Group by instructor\n",
    "- Count # records associated with each instructor (proxy for experience)\n",
    "- Plot (mean)% recommended vs. \"experience\""
   ]
  },
  {
   "cell_type": "code",
   "execution_count": 370,
   "metadata": {
    "collapsed": false
   },
   "outputs": [],
   "source": [
    "# To compare instructors, group by them\n",
    "byInstructor = df.groupby('Instructor')   \n",
    "nCoursesByInstructor=byInstructor.size()   \n",
    "percentRecByInstructor = byInstructor['Rcmnd_Instructor'].mean() # dataframe->series: mean, avgd over all courses, of % recommended.  note: could weigh by # responses\n",
    "\n",
    "def weightedPercentRecInstructor(df):\n",
    "    '''% recommend instructor, weighted by # responses'''\n",
    "    mask=df['Evals'].notnull() & df['Rcmnd_Instructor'].notnull()   # exclude nulls\n",
    "    weightedRec = np.dot(df['Evals'][mask],df['Rcmnd_Instructor'][mask])/df['Evals'].sum()\n",
    "    return weightedRec"
   ]
  },
  {
   "cell_type": "code",
   "execution_count": 409,
   "metadata": {
    "collapsed": false
   },
   "outputs": [
    {
     "data": {
      "text/plain": [
       "<matplotlib.text.Text at 0x10c4b4390>"
      ]
     },
     "execution_count": 409,
     "metadata": {},
     "output_type": "execute_result"
    },
    {
     "data": {
      "image/png": "[encoded data removed]",
      "text/plain": [
       "<matplotlib.figure.Figure at 0x11f236590>"
      ]
     },
     "metadata": {},
     "output_type": "display_data"
    }
   ],
   "source": [
    "fig, axes=subplots(1, 2)\n",
    "axes[0].plot(nCoursesByInstructor, percentRecByInstructor, 'o') \n",
    "axes[1].plot(nCoursesByInstructor, byInstructor.apply(weightedPercentRecInstructor),'o')\n",
    "\n",
    "axes[0].set_xlabel('# Courses Taught by Instructor')\n",
    "axes[1].set_xlabel('# Courses Taught by Instructor')\n",
    "axes[0].set_ylabel('% Students who Recommend Instructor')\n",
    "#title('Effect of Experience on Student Satisfaction')\n",
    "axes[0].set_xlim([0,20])\n",
    "axes[1].set_xlim([0,20])\n",
    "axes[0].set_title('unweighted')\n",
    "axes[1].set_title('weighted')"
   ]
  },
  {
   "cell_type": "markdown",
   "metadata": {},
   "source": [
    "# What have you learned about me?\n",
    "- I can scrape and clean data from the web\n",
    "- I can program in python, in the visually pleasing jupyter notebook\n",
    "- I have some proficiency with pandas (split + apply + combine)\n",
    "- I have some proficiency with multiple linear regression\n",
    "\n",
    "# What have you (we) learned about teaching at UCSD?\n",
    "- Students are happy with instructors who award good grades, **and**\n",
    "- Students are happy with instructors that make students work\n",
    "- Class attendance is probably low (45% evaluations returned)\n",
    "- Large class size does not **predict** unhappiness, but it is **correlated** with it\n",
    "- Instructors do not seem to improve with increased experience"
   ]
  }
 ],
 "metadata": {
  "kernelspec": {
   "display_name": "Python 2",
   "language": "python",
   "name": "python2"
  },
  "language_info": {
   "codemirror_mode": {
    "name": "ipython",
    "version": 2
   },
   "file_extension": ".py",
   "mimetype": "text/x-python",
   "name": "python",
   "nbconvert_exporter": "python",
   "pygments_lexer": "ipython2",
   "version": "2.7.11"
  }
 },
 "nbformat": 4,
 "nbformat_minor": 0
}
